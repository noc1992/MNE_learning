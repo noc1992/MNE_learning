{
 "cells": [
  {
   "cell_type": "code",
   "execution_count": 6,
   "metadata": {},
   "outputs": [
    {
     "ename": "AttributeError",
     "evalue": "module 'mne.datasets' has no attribute 'fnirs_motor'",
     "output_type": "error",
     "traceback": [
      "\u001b[1;31m---------------------------------------------------------------------------\u001b[0m",
      "\u001b[1;31mAttributeError\u001b[0m                            Traceback (most recent call last)",
      "\u001b[1;32m<ipython-input-6-195e76c3fbdc>\u001b[0m in \u001b[0;36m<module>\u001b[1;34m\u001b[0m\n\u001b[0;32m      5\u001b[0m \u001b[1;33m\u001b[0m\u001b[0m\n\u001b[0;32m      6\u001b[0m \u001b[1;33m\u001b[0m\u001b[0m\n\u001b[1;32m----> 7\u001b[1;33m \u001b[0mfnirs_data_folder\u001b[0m \u001b[1;33m=\u001b[0m \u001b[0mmne\u001b[0m\u001b[1;33m.\u001b[0m\u001b[0mdatasets\u001b[0m\u001b[1;33m.\u001b[0m\u001b[0mfnirs_motor\u001b[0m\u001b[1;33m.\u001b[0m\u001b[0mdata_path\u001b[0m\u001b[1;33m(\u001b[0m\u001b[1;33m)\u001b[0m\u001b[1;33m\u001b[0m\u001b[1;33m\u001b[0m\u001b[0m\n\u001b[0m\u001b[0;32m      8\u001b[0m \u001b[0mfnirs_raw_dir\u001b[0m \u001b[1;33m=\u001b[0m \u001b[0mos\u001b[0m\u001b[1;33m.\u001b[0m\u001b[0mpath\u001b[0m\u001b[1;33m.\u001b[0m\u001b[0mjoin\u001b[0m\u001b[1;33m(\u001b[0m\u001b[0mfnirs_data_folder\u001b[0m\u001b[1;33m,\u001b[0m \u001b[1;34m'Participant-1'\u001b[0m\u001b[1;33m)\u001b[0m\u001b[1;33m\u001b[0m\u001b[1;33m\u001b[0m\u001b[0m\n\u001b[0;32m      9\u001b[0m \u001b[0mraw_intensity\u001b[0m \u001b[1;33m=\u001b[0m \u001b[0mmne\u001b[0m\u001b[1;33m.\u001b[0m\u001b[0mio\u001b[0m\u001b[1;33m.\u001b[0m\u001b[0mread_raw_nirx\u001b[0m\u001b[1;33m(\u001b[0m\u001b[0mfnirs_raw_dir\u001b[0m\u001b[1;33m,\u001b[0m \u001b[0mverbose\u001b[0m\u001b[1;33m=\u001b[0m\u001b[1;32mTrue\u001b[0m\u001b[1;33m)\u001b[0m\u001b[1;33m.\u001b[0m\u001b[0mload_data\u001b[0m\u001b[1;33m(\u001b[0m\u001b[1;33m)\u001b[0m\u001b[1;33m\u001b[0m\u001b[1;33m\u001b[0m\u001b[0m\n",
      "\u001b[1;31mAttributeError\u001b[0m: module 'mne.datasets' has no attribute 'fnirs_motor'"
     ]
    }
   ],
   "source": [
    "import os\n",
    "import matplotlib.pyplot as plt\n",
    "\n",
    "import mne\n",
    "\n",
    "\n",
    "fnirs_data_folder = mne.datasets.fnirs_motor.data_path()\n",
    "fnirs_raw_dir = os.path.join(fnirs_data_folder, 'Participant-1')\n",
    "raw_intensity = mne.io.read_raw_nirx(fnirs_raw_dir, verbose=True).load_data()"
   ]
  },
  {
   "cell_type": "code",
   "execution_count": null,
   "metadata": {},
   "outputs": [],
   "source": [
    "channels that are not considered to be short (less than 1 cm distance between optodes).\n",
    "\n",
    "picks = mne.pick_types(raw_intensity.info, meg=False, fnirs=True)\n",
    "dists = mne.preprocessing.nirs.source_detector_distances(\n",
    "    raw_intensity.info, picks=picks)\n",
    "raw_intensity.pick(picks[dists > 0.01])\n",
    "raw_intensity.plot(n_channels=len(raw_intensity.ch_names), duration=500)"
   ]
  },
  {
   "cell_type": "code",
   "execution_count": null,
   "metadata": {},
   "outputs": [],
   "source": [
    "raw_od = mne.preprocessing.nirs.optical_density(raw_intensity)\n",
    "raw_od.plot(n_channels=len(raw_od.ch_names), duration=500)"
   ]
  },
  {
   "cell_type": "code",
   "execution_count": null,
   "metadata": {},
   "outputs": [],
   "source": [
    "raw_haemo = mne.preprocessing.nirs.beer_lambert_law(raw_od)\n",
    "raw_haemo.plot(n_channels=len(raw_haemo.ch_names), duration=500)"
   ]
  },
  {
   "cell_type": "code",
   "execution_count": null,
   "metadata": {},
   "outputs": [],
   "source": [
    "fig = raw_haemo.plot_psd(average=True)\n",
    "fig.suptitle('Before filtering', weight='bold', size='x-large')\n",
    "fig.subplots_adjust(top=0.88)\n",
    "raw_haemo = raw_haemo.filter(0.05, 0.7, h_trans_bandwidth=0.2,\n",
    "                             l_trans_bandwidth=0.02)\n",
    "fig = raw_haemo.plot_psd(average=True)\n",
    "fig.suptitle('After filtering', weight='bold', size='x-large')\n",
    "fig.subplots_adjust(top=0.88)"
   ]
  },
  {
   "cell_type": "code",
   "execution_count": null,
   "metadata": {},
   "outputs": [],
   "source": [
    "events, _ = mne.events_from_annotations(raw_haemo, event_id={'1.0': 1,\n",
    "                                                             '2.0': 2,\n",
    "                                                             '3.0': 3})\n",
    "event_dict = {'Control': 1, 'Tapping/Left': 2, 'Tapping/Right': 3}\n",
    "fig = mne.viz.plot_events(events, event_id=event_dict,\n",
    "                          sfreq=raw_haemo.info['sfreq'])\n",
    "fig.subplots_adjust(right=0.7)  # make room for the legend"
   ]
  },
  {
   "cell_type": "code",
   "execution_count": 2,
   "metadata": {},
   "outputs": [
    {
     "ename": "NameError",
     "evalue": "name 'raw_haemo' is not defined",
     "output_type": "error",
     "traceback": [
      "\u001b[1;31m---------------------------------------------------------------------------\u001b[0m",
      "\u001b[1;31mNameError\u001b[0m                                 Traceback (most recent call last)",
      "\u001b[1;32m<ipython-input-2-94919d34e967>\u001b[0m in \u001b[0;36m<module>\u001b[1;34m\u001b[0m\n\u001b[0;32m      2\u001b[0m \u001b[0mtmin\u001b[0m\u001b[1;33m,\u001b[0m \u001b[0mtmax\u001b[0m \u001b[1;33m=\u001b[0m \u001b[1;33m-\u001b[0m\u001b[1;36m5\u001b[0m\u001b[1;33m,\u001b[0m \u001b[1;36m15\u001b[0m\u001b[1;33m\u001b[0m\u001b[1;33m\u001b[0m\u001b[0m\n\u001b[0;32m      3\u001b[0m \u001b[1;33m\u001b[0m\u001b[0m\n\u001b[1;32m----> 4\u001b[1;33m epochs = mne.Epochs(raw_haemo, events, event_id=event_dict,\n\u001b[0m\u001b[0;32m      5\u001b[0m                     \u001b[0mtmin\u001b[0m\u001b[1;33m=\u001b[0m\u001b[0mtmin\u001b[0m\u001b[1;33m,\u001b[0m \u001b[0mtmax\u001b[0m\u001b[1;33m=\u001b[0m\u001b[0mtmax\u001b[0m\u001b[1;33m,\u001b[0m\u001b[1;33m\u001b[0m\u001b[1;33m\u001b[0m\u001b[0m\n\u001b[0;32m      6\u001b[0m                     \u001b[0mreject\u001b[0m\u001b[1;33m=\u001b[0m\u001b[0mreject_criteria\u001b[0m\u001b[1;33m,\u001b[0m \u001b[0mreject_by_annotation\u001b[0m\u001b[1;33m=\u001b[0m\u001b[1;32mTrue\u001b[0m\u001b[1;33m,\u001b[0m\u001b[1;33m\u001b[0m\u001b[1;33m\u001b[0m\u001b[0m\n",
      "\u001b[1;31mNameError\u001b[0m: name 'raw_haemo' is not defined"
     ]
    }
   ],
   "source": [
    "reject_criteria = dict(hbo=80e-6)\n",
    "tmin, tmax = -5, 15\n",
    "\n",
    "epochs = mne.Epochs(raw_haemo, events, event_id=event_dict,\n",
    "                    tmin=tmin, tmax=tmax,\n",
    "                    reject=reject_criteria, reject_by_annotation=True,\n",
    "                    proj=True, baseline=(None, 0), preload=True,\n",
    "                    detrend=None, verbose=True)\n",
    "epochs.plot_drop_log()"
   ]
  },
  {
   "cell_type": "code",
   "execution_count": 3,
   "metadata": {},
   "outputs": [
    {
     "ename": "NameError",
     "evalue": "name 'epochs' is not defined",
     "output_type": "error",
     "traceback": [
      "\u001b[1;31m---------------------------------------------------------------------------\u001b[0m",
      "\u001b[1;31mNameError\u001b[0m                                 Traceback (most recent call last)",
      "\u001b[1;32m<ipython-input-3-08376f253a8e>\u001b[0m in \u001b[0;36m<module>\u001b[1;34m\u001b[0m\n\u001b[1;32m----> 1\u001b[1;33m epochs['Tapping'].plot_image(combine='mean', vmin=-30, vmax=30,\n\u001b[0m\u001b[0;32m      2\u001b[0m                              ts_args=dict(ylim=dict(hbo=[-15, 15],\n\u001b[0;32m      3\u001b[0m                                                     hbr=[-15, 15])))\n",
      "\u001b[1;31mNameError\u001b[0m: name 'epochs' is not defined"
     ]
    }
   ],
   "source": [
    "epochs['Tapping'].plot_image(combine='mean', vmin=-30, vmax=30,\n",
    "                             ts_args=dict(ylim=dict(hbo=[-15, 15],\n",
    "                                                    hbr=[-15, 15])))"
   ]
  },
  {
   "cell_type": "code",
   "execution_count": 4,
   "metadata": {},
   "outputs": [
    {
     "ename": "NameError",
     "evalue": "name 'epochs' is not defined",
     "output_type": "error",
     "traceback": [
      "\u001b[1;31m---------------------------------------------------------------------------\u001b[0m",
      "\u001b[1;31mNameError\u001b[0m                                 Traceback (most recent call last)",
      "\u001b[1;32m<ipython-input-4-e9a1594a5f68>\u001b[0m in \u001b[0;36m<module>\u001b[1;34m\u001b[0m\n\u001b[1;32m----> 1\u001b[1;33m epochs['Control'].plot_image(combine='mean', vmin=-30, vmax=30,\n\u001b[0m\u001b[0;32m      2\u001b[0m                              ts_args=dict(ylim=dict(hbo=[-15, 15],\n\u001b[0;32m      3\u001b[0m                                                     hbr=[-15, 15])))\n",
      "\u001b[1;31mNameError\u001b[0m: name 'epochs' is not defined"
     ]
    }
   ],
   "source": [
    "epochs['Control'].plot_image(combine='mean', vmin=-30, vmax=30,\n",
    "                             ts_args=dict(ylim=dict(hbo=[-15, 15],\n",
    "                                                    hbr=[-15, 15])))"
   ]
  },
  {
   "cell_type": "code",
   "execution_count": 5,
   "metadata": {},
   "outputs": [
    {
     "ename": "NameError",
     "evalue": "name 'epochs' is not defined",
     "output_type": "error",
     "traceback": [
      "\u001b[1;31m---------------------------------------------------------------------------\u001b[0m",
      "\u001b[1;31mNameError\u001b[0m                                 Traceback (most recent call last)",
      "\u001b[1;32m<ipython-input-5-cb1b23f92a6b>\u001b[0m in \u001b[0;36m<module>\u001b[1;34m\u001b[0m\n\u001b[0;32m      1\u001b[0m \u001b[0mfig\u001b[0m\u001b[1;33m,\u001b[0m \u001b[0maxes\u001b[0m \u001b[1;33m=\u001b[0m \u001b[0mplt\u001b[0m\u001b[1;33m.\u001b[0m\u001b[0msubplots\u001b[0m\u001b[1;33m(\u001b[0m\u001b[0mnrows\u001b[0m\u001b[1;33m=\u001b[0m\u001b[1;36m2\u001b[0m\u001b[1;33m,\u001b[0m \u001b[0mncols\u001b[0m\u001b[1;33m=\u001b[0m\u001b[1;36m2\u001b[0m\u001b[1;33m,\u001b[0m \u001b[0mfigsize\u001b[0m\u001b[1;33m=\u001b[0m\u001b[1;33m(\u001b[0m\u001b[1;36m15\u001b[0m\u001b[1;33m,\u001b[0m \u001b[1;36m6\u001b[0m\u001b[1;33m)\u001b[0m\u001b[1;33m)\u001b[0m\u001b[1;33m\u001b[0m\u001b[1;33m\u001b[0m\u001b[0m\n\u001b[0;32m      2\u001b[0m \u001b[0mclims\u001b[0m \u001b[1;33m=\u001b[0m \u001b[0mdict\u001b[0m\u001b[1;33m(\u001b[0m\u001b[0mhbo\u001b[0m\u001b[1;33m=\u001b[0m\u001b[1;33m[\u001b[0m\u001b[1;33m-\u001b[0m\u001b[1;36m20\u001b[0m\u001b[1;33m,\u001b[0m \u001b[1;36m20\u001b[0m\u001b[1;33m]\u001b[0m\u001b[1;33m,\u001b[0m \u001b[0mhbr\u001b[0m\u001b[1;33m=\u001b[0m\u001b[1;33m[\u001b[0m\u001b[1;33m-\u001b[0m\u001b[1;36m20\u001b[0m\u001b[1;33m,\u001b[0m \u001b[1;36m20\u001b[0m\u001b[1;33m]\u001b[0m\u001b[1;33m)\u001b[0m\u001b[1;33m\u001b[0m\u001b[1;33m\u001b[0m\u001b[0m\n\u001b[1;32m----> 3\u001b[1;33m \u001b[0mepochs\u001b[0m\u001b[1;33m[\u001b[0m\u001b[1;34m'Control'\u001b[0m\u001b[1;33m]\u001b[0m\u001b[1;33m.\u001b[0m\u001b[0maverage\u001b[0m\u001b[1;33m(\u001b[0m\u001b[1;33m)\u001b[0m\u001b[1;33m.\u001b[0m\u001b[0mplot_image\u001b[0m\u001b[1;33m(\u001b[0m\u001b[0maxes\u001b[0m\u001b[1;33m=\u001b[0m\u001b[0maxes\u001b[0m\u001b[1;33m[\u001b[0m\u001b[1;33m:\u001b[0m\u001b[1;33m,\u001b[0m \u001b[1;36m0\u001b[0m\u001b[1;33m]\u001b[0m\u001b[1;33m,\u001b[0m \u001b[0mclim\u001b[0m\u001b[1;33m=\u001b[0m\u001b[0mclims\u001b[0m\u001b[1;33m)\u001b[0m\u001b[1;33m\u001b[0m\u001b[1;33m\u001b[0m\u001b[0m\n\u001b[0m\u001b[0;32m      4\u001b[0m \u001b[0mepochs\u001b[0m\u001b[1;33m[\u001b[0m\u001b[1;34m'Tapping'\u001b[0m\u001b[1;33m]\u001b[0m\u001b[1;33m.\u001b[0m\u001b[0maverage\u001b[0m\u001b[1;33m(\u001b[0m\u001b[1;33m)\u001b[0m\u001b[1;33m.\u001b[0m\u001b[0mplot_image\u001b[0m\u001b[1;33m(\u001b[0m\u001b[0maxes\u001b[0m\u001b[1;33m=\u001b[0m\u001b[0maxes\u001b[0m\u001b[1;33m[\u001b[0m\u001b[1;33m:\u001b[0m\u001b[1;33m,\u001b[0m \u001b[1;36m1\u001b[0m\u001b[1;33m]\u001b[0m\u001b[1;33m,\u001b[0m \u001b[0mclim\u001b[0m\u001b[1;33m=\u001b[0m\u001b[0mclims\u001b[0m\u001b[1;33m)\u001b[0m\u001b[1;33m\u001b[0m\u001b[1;33m\u001b[0m\u001b[0m\n\u001b[0;32m      5\u001b[0m \u001b[1;32mfor\u001b[0m \u001b[0mcolumn\u001b[0m\u001b[1;33m,\u001b[0m \u001b[0mcondition\u001b[0m \u001b[1;32min\u001b[0m \u001b[0menumerate\u001b[0m\u001b[1;33m(\u001b[0m\u001b[1;33m[\u001b[0m\u001b[1;34m'Control'\u001b[0m\u001b[1;33m,\u001b[0m \u001b[1;34m'Tapping'\u001b[0m\u001b[1;33m]\u001b[0m\u001b[1;33m)\u001b[0m\u001b[1;33m:\u001b[0m\u001b[1;33m\u001b[0m\u001b[1;33m\u001b[0m\u001b[0m\n",
      "\u001b[1;31mNameError\u001b[0m: name 'epochs' is not defined"
     ]
    },
    {
     "data": {
      "image/png": "[encoded data removed]",
      "text/plain": [
       "<Figure size 1080x432 with 4 Axes>"
      ]
     },
     "metadata": {
      "needs_background": "light"
     },
     "output_type": "display_data"
    }
   ],
   "source": [
    "fig, axes = plt.subplots(nrows=2, ncols=2, figsize=(15, 6))\n",
    "clims = dict(hbo=[-20, 20], hbr=[-20, 20])\n",
    "epochs['Control'].average().plot_image(axes=axes[:, 0], clim=clims)\n",
    "epochs['Tapping'].average().plot_image(axes=axes[:, 1], clim=clims)\n",
    "for column, condition in enumerate(['Control', 'Tapping']):\n",
    "    for ax in axes[:, column]:\n",
    "        ax.set_title('{}: {}'.format(condition, ax.get_title()))"
   ]
  },
  {
   "cell_type": "code",
   "execution_count": null,
   "metadata": {},
   "outputs": [],
   "source": [
    "evoked_dict = {'Tapping/HbO': epochs['Tapping'].average(picks='hbo'),\n",
    "               'Tapping/HbR': epochs['Tapping'].average(picks='hbr'),\n",
    "               'Control/HbO': epochs['Control'].average(picks='hbo'),\n",
    "               'Control/HbR': epochs['Control'].average(picks='hbr')}\n",
    "\n",
    "# Rename channels until the encoding of frequency in ch_name is fixed\n",
    "for condition in evoked_dict:\n",
    "    evoked_dict[condition].rename_channels(lambda x: x[:-4])\n",
    "\n",
    "color_dict = dict(HbO='#AA3377', HbR='b')\n",
    "styles_dict = dict(Control=dict(linestyle='dashed'))\n",
    "\n",
    "mne.viz.plot_compare_evokeds(evoked_dict, combine=\"mean\", ci=0.95,\n",
    "                             colors=color_dict, styles=styles_dict)"
   ]
  },
  {
   "cell_type": "code",
   "execution_count": null,
   "metadata": {},
   "outputs": [],
   "source": []
  },
  {
   "cell_type": "code",
   "execution_count": null,
   "metadata": {},
   "outputs": [],
   "source": []
  }
 ],
 "metadata": {
  "kernelspec": {
   "display_name": "Python 3",
   "language": "python",
   "name": "python3"
  },
  "language_info": {
   "codemirror_mode": {
    "name": "ipython",
    "version": 3
   },
   "file_extension": ".py",
   "mimetype": "text/x-python",
   "name": "python",
   "nbconvert_exporter": "python",
   "pygments_lexer": "ipython3",
   "version": "3.7.3"
  }
 },
 "nbformat": 4,
 "nbformat_minor": 2
}
