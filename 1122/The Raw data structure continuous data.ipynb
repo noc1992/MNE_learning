{
 "cells": [
  {
   "cell_type": "markdown",
   "metadata": {},
   "source": [
    "- 이 튜토리얼은 Python에서 원시 EEG / MEG 데이터 작업의 기본 사항을 다룹니다. 객체에서 데이터를 로드, 쿼리, 하위 선택, 내보내기 및 플롯하는 방법을 포함 하여 데이터 구조를 자세하게 소개합니다. Raw객체 시각화에 대한 자세한 내용 은 원시 객체에 대한 내장 플로팅 방법을 참조하십시오.Raw시뮬레이션 된 데이터에서 객체를 생성하는 방법에 대한 자세한 내용은 MNE의 데이터 구조를 처음부터 생성을 참조하십시오 ."
   ]
  },
  {
   "cell_type": "code",
   "execution_count": 1,
   "metadata": {},
   "outputs": [],
   "source": [
    "import os\n",
    "import numpy as np\n",
    "import matplotlib.pyplot as plt\n",
    "import mne"
   ]
  },
  {
   "cell_type": "markdown",
   "metadata": {},
   "source": [
    "## 컨티뉴어스 데이터 로드"
   ]
  },
  {
   "cell_type": "code",
   "execution_count": 2,
   "metadata": {},
   "outputs": [
    {
     "name": "stdout",
     "output_type": "stream",
     "text": [
      "Opening raw data file C:\\Users\\rkm14\\mne_data\\MNE-sample-data\\MEG\\sample\\sample_audvis_raw.fif...\n",
      "    Read a total of 3 projection items:\n",
      "        PCA-v1 (1 x 102)  idle\n",
      "        PCA-v2 (1 x 102)  idle\n",
      "        PCA-v3 (1 x 102)  idle\n",
      "    Range : 25800 ... 192599 =     42.956 ...   320.670 secs\n",
      "Ready.\n",
      "Current compensation grade : 0\n"
     ]
    }
   ],
   "source": [
    "sample_data_folder = mne.datasets.sample.data_path()\n",
    "sample_data_raw_file = os.path.join(sample_data_folder, 'MEG', 'sample',\n",
    "                                    'sample_audvis_raw.fif')\n",
    "raw = mne.io.read_raw_fif(sample_data_raw_file)"
   ]
  },
  {
   "cell_type": "code",
   "execution_count": 26,
   "metadata": {},
   "outputs": [
    {
     "name": "stdout",
     "output_type": "stream",
     "text": [
      "<Raw  |  sample_audvis_raw.fif, n_channels x n_times : 376 x 36038 (60.0 sec), ~107.0 MB, data loaded>\n"
     ]
    }
   ],
   "source": [
    "print(raw)"
   ]
  },
  {
   "cell_type": "code",
   "execution_count": 3,
   "metadata": {},
   "outputs": [
    {
     "name": "stdout",
     "output_type": "stream",
     "text": [
      "Reading 0 ... 36037  =      0.000 ...    60.000 secs...\n"
     ]
    },
    {
     "data": {
      "text/plain": [
       "<Raw  |  sample_audvis_raw.fif, n_channels x n_times : 376 x 36038 (60.0 sec), ~107.0 MB, data loaded>"
      ]
     },
     "execution_count": 3,
     "metadata": {},
     "output_type": "execute_result"
    }
   ],
   "source": [
    "raw.crop(tmax=60).load_data()"
   ]
  },
  {
   "cell_type": "markdown",
   "metadata": {},
   "source": [
    "## Raw 객체 쿼리\n",
    "- 위에서 Raw개체 를 print()하면 총 채널 수, 데이터가 샘플링 된 시점 수, 총 지속 시간 및 메모리의 대략적인 크기와 같은 몇 가지 기본 정보가 표시됩니다. 클래스 의 다양한 속성 과 메소드 를 통해 더 많은 정보를 얻을 수 있습니다. Raw객체의 유용한 속성으로 는 채널 이름 목록 ( ch_names), 초 단위의 샘플 시간 배열 ( times) 및 총 샘플 수 ( n_times)가 있습니다. 모든 속성과 메소드 목록은 Raw클래스 문서에 나와 있습니다."
   ]
  },
  {
   "cell_type": "markdown",
   "metadata": {},
   "source": [
    "### Raw.info 속성\n",
    "- 저장된 많은 정보가 있음.\n",
    "- 지정된 키를 통해 액세스되는 필드가 있음\n",
    "- info와 유사한 객체를 저장\n",
    "- 사용 가능한 모든 펠드 이름 표시 메소드 소지\n",
    "- 각 필드의 데이터 형식화하여 인쇄"
   ]
  },
  {
   "cell_type": "code",
   "execution_count": 4,
   "metadata": {},
   "outputs": [
    {
     "name": "stdout",
     "output_type": "stream",
     "text": [
      "the (cropped) sample data object has 36038 time samples and 376 channels.\n",
      "The last time sample is at 60.000167471573526 seconds.\n",
      "The first few channel names are MEG 0113, MEG 0112, MEG 0111.\n",
      "\n",
      "bad channels: ['MEG 2443', 'EEG 053']\n",
      "600.614990234375 Hz\n",
      "acquisition (megacq) VectorView system at NMR-MGH \n",
      "\n",
      "<Info | 24 non-empty fields\n",
      "    acq_pars : str | 13886 items\n",
      "    bads : list | MEG 2443, EEG 053\n",
      "    ch_names : list | MEG 0113, MEG 0112, MEG 0111, MEG 0122, MEG 0123, ...\n",
      "    chs : list | 376 items (GRAD: 204, MAG: 102, STIM: 9, EEG: 60, EOG: 1)\n",
      "    comps : list | 0 items\n",
      "    custom_ref_applied : bool | False\n",
      "    description : str | 49 items\n",
      "    dev_head_t : Transform | 3 items\n",
      "    dig : Digitization | 146 items (3 Cardinal, 4 HPI, 61 EEG, 78 Extra)\n",
      "    events : list | 1 items\n",
      "    experimenter : str | 3 items\n",
      "    file_id : dict | 4 items\n",
      "    highpass : float | 0.10000000149011612 Hz\n",
      "    hpi_meas : list | 1 items\n",
      "    hpi_results : list | 1 items\n",
      "    lowpass : float | 172.17630004882812 Hz\n",
      "    meas_date : tuple | 2002-12-03 19:01:10 GMT\n",
      "    meas_id : dict | 4 items\n",
      "    nchan : int | 376\n",
      "    proc_history : list | 0 items\n",
      "    proj_id : ndarray | 1 items\n",
      "    proj_name : str | 4 items\n",
      "    projs : list | PCA-v1: off, PCA-v2: off, PCA-v3: off\n",
      "    sfreq : float | 600.614990234375 Hz\n",
      "    acq_stim : NoneType\n",
      "    ctf_head_t : NoneType\n",
      "    dev_ctf_t : NoneType\n",
      "    device_info : NoneType\n",
      "    gantry_angle : NoneType\n",
      "    helium_info : NoneType\n",
      "    hpi_subsystem : NoneType\n",
      "    kit_system_id : NoneType\n",
      "    line_freq : NoneType\n",
      "    subject_info : NoneType\n",
      "    utc_offset : NoneType\n",
      "    xplotter_layout : NoneType\n",
      ">\n"
     ]
    }
   ],
   "source": [
    "n_time_samps = raw.n_times\n",
    "time_secs = raw.times\n",
    "ch_names = raw.ch_names\n",
    "n_chan = len(ch_names)  # note: there is no raw.n_channels attribute\n",
    "print('the (cropped) sample data object has {} time samples and {} channels.'\n",
    "      ''.format(n_time_samps, n_chan))\n",
    "print('The last time sample is at {} seconds.'.format(time_secs[-1]))\n",
    "print('The first few channel names are {}.'.format(', '.join(ch_names[:3])))\n",
    "print()  # insert a blank line in the output\n",
    "\n",
    "# some examples of raw.info:\n",
    "print('bad channels:', raw.info['bads'])  # chs marked \"bad\" during acquisition\n",
    "print(raw.info['sfreq'], 'Hz')            # sampling frequency\n",
    "print(raw.info['description'], '\\n')      # miscellaneous acquisition info\n",
    "\n",
    "print(raw.info)"
   ]
  },
  {
   "cell_type": "markdown",
   "metadata": {},
   "source": [
    "#### 시간 샘플번호 및 샘플 인덱스"
   ]
  },
  {
   "cell_type": "code",
   "execution_count": 5,
   "metadata": {},
   "outputs": [
    {
     "name": "stdout",
     "output_type": "stream",
     "text": [
      "[12012]\n",
      "[12012 18018 24024] \n",
      "\n",
      "[601 600]\n"
     ]
    }
   ],
   "source": [
    "print(raw.time_as_index(20))\n",
    "print(raw.time_as_index([20, 30, 40]), '\\n')\n",
    "\n",
    "print(np.diff(raw.time_as_index([1, 2, 3])))"
   ]
  },
  {
   "cell_type": "markdown",
   "metadata": {},
   "source": [
    "### Raw 객체 수정\n",
    "- Raw객체에는 Raw인스턴스를 제자리에서 수정하고 수정 된 인스턴스에 대한 참조를 반환 하는 많은 메서드가 있습니다.  \n",
    " - raw.crop(...). \n",
    " - filter(...).pick_channels(...).plot()\n",
    " -  탐색 플롯이나 분석을 위해 오브젝트를 수정하는 경우 (예 : 일부 채널을 삭제하여) 다시로드해야합니다. "
   ]
  },
  {
   "cell_type": "markdown",
   "metadata": {},
   "source": [
    "#### 채널 선택 삭제 및 재정렬\n",
    "-  pick_types() : raw 객체를 eeg 및 eog 채널로만 제한\n",
    "-  pick_channels()\n",
    "-  drop_channels()"
   ]
  },
  {
   "cell_type": "code",
   "execution_count": 6,
   "metadata": {},
   "outputs": [
    {
     "name": "stdout",
     "output_type": "stream",
     "text": [
      "376 → 60\n"
     ]
    }
   ],
   "source": [
    "eeg_and_eog = raw.copy().pick_types(meg=False, eeg=True, eog=True)\n",
    "print(len(raw.ch_names), '→', len(eeg_and_eog.ch_names))"
   ]
  },
  {
   "cell_type": "code",
   "execution_count": 7,
   "metadata": {},
   "outputs": [
    {
     "name": "stdout",
     "output_type": "stream",
     "text": [
      "Number of channels in raw_temp:\n",
      "376 → drop two → 374 → pick three → 3\n"
     ]
    }
   ],
   "source": [
    "raw_temp = raw.copy()\n",
    "print('Number of channels in raw_temp:')\n",
    "print(len(raw_temp.ch_names), end=' → drop two → ')\n",
    "raw_temp.drop_channels(['EEG 037', 'EEG 059'])\n",
    "print(len(raw_temp.ch_names), end=' → pick three → ')\n",
    "raw_temp.pick_channels(['MEG 1811', 'EEG 017', 'EOG 061'])\n",
    "print(len(raw_temp.ch_names))"
   ]
  },
  {
   "cell_type": "code",
   "execution_count": 8,
   "metadata": {},
   "outputs": [
    {
     "name": "stdout",
     "output_type": "stream",
     "text": [
      "['EOG 061', 'EEG 003', 'EEG 002', 'EEG 001']\n"
     ]
    }
   ],
   "source": [
    "channel_names = ['EOG 061', 'EEG 003', 'EEG 002', 'EEG 001']\n",
    "eog_and_frontal_eeg = raw.copy().reorder_channels(channel_names)\n",
    "print(eog_and_frontal_eeg.ch_names)\n",
    "# EOG 및 정면 EEG 채널을 선택하여 EOG를 먼저, EEG를 역순으로 설정"
   ]
  },
  {
   "cell_type": "markdown",
   "metadata": {},
   "source": [
    "#### 채널 이름과 유형을 변경\n",
    "-  rename_channels()\n",
    "-  set_channel_types() : 채널 유형이 정확하지 않은 경우, 모든 채널유형을 변경할 때"
   ]
  },
  {
   "cell_type": "code",
   "execution_count": 9,
   "metadata": {},
   "outputs": [],
   "source": [
    "raw.rename_channels({'EOG 061': 'blink detector'})"
   ]
  },
  {
   "cell_type": "markdown",
   "metadata": {},
   "source": [
    "#### 시간 영역에서의 선택\n",
    "- Raw객체 의 시간 영역을 제한하려는 경우 객체를 제자리에 crop() 수정 하는 방법을 사용할 수 있습니다"
   ]
  },
  {
   "cell_type": "code",
   "execution_count": 11,
   "metadata": {},
   "outputs": [
    {
     "name": "stdout",
     "output_type": "stream",
     "text": [
      "['EEG 001', 'blink detector']\n"
     ]
    }
   ],
   "source": [
    "raw.set_channel_types({'EEG 001': 'eog'})\n",
    "print(raw.copy().pick_types(meg=False, eog=True).ch_names)"
   ]
  },
  {
   "cell_type": "code",
   "execution_count": 12,
   "metadata": {},
   "outputs": [
    {
     "name": "stdout",
     "output_type": "stream",
     "text": [
      "<Raw  |  sample_audvis_raw.fif, n_channels x n_times : 376 x 1503 (2.5 sec), ~8.0 MB, data loaded>\n"
     ]
    }
   ],
   "source": [
    "raw_selection = raw.copy().crop(tmin=10, tmax=12.5)\n",
    "print(raw_selection)"
   ]
  },
  {
   "cell_type": "markdown",
   "metadata": {},
   "source": [
    "- crop()또한 자른 객체의 첫 번째 샘플에 일치하도록 first_samp및 times속성을 수정합니다 . 따라서 11초에서 12.5초 사이의 raw_selection을 re-crop 하기를 원한다면,그 크롭하기 위한 후속 연락은 tmin=1을 얻어야 합니다(tmin=11이 아니라),그리고 그 대상의 tmin부터 끝까지 tmax에 불명확히 내버려두어야합니다."
   ]
  },
  {
   "cell_type": "code",
   "execution_count": 13,
   "metadata": {},
   "outputs": [
    {
     "name": "stdout",
     "output_type": "stream",
     "text": [
      "0.0 2.500770084699155\n",
      "0.0 1.5001290587975622\n"
     ]
    }
   ],
   "source": [
    "print(raw_selection.times.min(), raw_selection.times.max())\n",
    "raw_selection.crop(tmin=1)\n",
    "print(raw_selection.times.min(), raw_selection.times.max())"
   ]
  },
  {
   "cell_type": "markdown",
   "metadata": {},
   "source": [
    "- 샘플시간 요청 tmin 또는 tmax 값과 정확하게 정렬되는 것은 아님\n",
    "- Raw객체 의 불연속 범위를 선택 하거나 두 개 이상의 개별 Raw객체를 결합 해야하는 경우 다음 append()방법을 사용할 수 있습니다 ."
   ]
  },
  {
   "cell_type": "code",
   "execution_count": 14,
   "metadata": {},
   "outputs": [
    {
     "name": "stdout",
     "output_type": "stream",
     "text": [
      "0.0 2.5041000049184614\n"
     ]
    }
   ],
   "source": [
    "raw_selection1 = raw.copy().crop(tmin=30, tmax=30.1)     # 0.1 seconds\n",
    "raw_selection2 = raw.copy().crop(tmin=40, tmax=41.1)     # 1.1 seconds\n",
    "raw_selection3 = raw.copy().crop(tmin=50, tmax=51.3)     # 1.3 seconds\n",
    "raw_selection1.append([raw_selection2, raw_selection3])  # 2.5 seconds total\n",
    "print(raw_selection1.times.min(), raw_selection1.times.max())"
   ]
  },
  {
   "cell_type": "markdown",
   "metadata": {},
   "source": [
    "## Raw 객체에서 데이터 추출하기\n",
    "- 요청 된 샘플 값과 함께 MNE-Python은 요청 된 샘플에 해당하는 시간 (초) 배열도 반환합니다. 데이터 배열과 시간 배열은 튜플의 요소로 함께 반환됩니다.\n",
    "\n",
    "- 단일 타임 샘플 또는 단일 채널 만 요청하더라도 데이터 배열은 항상 2 차원입니다."
   ]
  },
  {
   "cell_type": "code",
   "execution_count": 27,
   "metadata": {
    "scrolled": true
   },
   "outputs": [
    {
     "name": "stdout",
     "output_type": "stream",
     "text": [
      "(array([[-3.85742192e-12, -3.85742192e-12, -9.64355481e-13, ...,\n",
      "         2.89306644e-12,  3.85742192e-12,  3.85742192e-12]]), array([10.99872648, 11.00039144, 11.0020564 , ..., 12.9933487 ,\n",
      "       12.99501366, 12.99667862]))\n"
     ]
    }
   ],
   "source": [
    "# 인덱스로 데이터 추출\n",
    "sampling_freq = raw.info['sfreq']\n",
    "start_stop_seconds = np.array([11, 13])\n",
    "start_sample, stop_sample = (start_stop_seconds * sampling_freq).astype(int)\n",
    "channel_index = 0\n",
    "raw_selection = raw[channel_index, start_sample:stop_sample]\n",
    "print(raw_selection)"
   ]
  },
  {
   "cell_type": "code",
   "execution_count": 16,
   "metadata": {},
   "outputs": [
    {
     "data": {
      "text/plain": [
       "[<matplotlib.lines.Line2D at 0x2adea8de7f0>]"
      ]
     },
     "execution_count": 16,
     "metadata": {},
     "output_type": "execute_result"
    },
    {
     "data": {
      "image/png": "[encoded data removed]",
      "text/plain": [
       "<Figure size 432x288 with 1 Axes>"
      ]
     },
     "metadata": {
      "needs_background": "light"
     },
     "output_type": "display_data"
    }
   ],
   "source": [
    "x = raw_selection[1]\n",
    "y = raw_selection[0].T\n",
    "plt.plot(x, y)"
   ]
  },
  {
   "cell_type": "code",
   "execution_count": 18,
   "metadata": {},
   "outputs": [
    {
     "data": {
      "text/plain": [
       "<matplotlib.legend.Legend at 0x2adea92edd8>"
      ]
     },
     "execution_count": 18,
     "metadata": {},
     "output_type": "execute_result"
    },
    {
     "data": {
      "image/png": "[encoded data removed]",
      "text/plain": [
       "<Figure size 432x288 with 1 Axes>"
      ]
     },
     "metadata": {
      "needs_background": "light"
     },
     "output_type": "display_data"
    }
   ],
   "source": [
    "# 이름으로 채널 추출\n",
    "channel_names = ['MEG 0712', 'MEG 1022']\n",
    "two_meg_chans = raw[channel_names, start_sample:stop_sample]\n",
    "y_offset = np.array([5e-11, 0])  # just enough to separate the channel traces\n",
    "x = two_meg_chans[1]\n",
    "y = two_meg_chans[0].T + y_offset\n",
    "lines = plt.plot(x, y)\n",
    "plt.legend(lines, channel_names)"
   ]
  },
  {
   "cell_type": "code",
   "execution_count": 19,
   "metadata": {},
   "outputs": [
    {
     "name": "stdout",
     "output_type": "stream",
     "text": [
      "(58, 36038)\n"
     ]
    }
   ],
   "source": [
    "# 유형별로 채널을 추출\n",
    "eeg_channel_indices = mne.pick_types(raw.info, meg=False, eeg=True)\n",
    "eeg_data, times = raw[eeg_channel_indices]\n",
    "print(eeg_data.shape)"
   ]
  },
  {
   "cell_type": "markdown",
   "metadata": {},
   "source": [
    "### Raw.get_data()\n",
    "- 해당 시간 배열이 아닌 데이터 만 원하는 경우 Raw개체에 get_data()메서드가 있습니다. 매개 변수를 지정하지 않고 사용하면 (n_channels, n_timepoints)의 모든 채널에서 모든 데이터를 추출합니다"
   ]
  },
  {
   "cell_type": "code",
   "execution_count": 20,
   "metadata": {},
   "outputs": [
    {
     "name": "stdout",
     "output_type": "stream",
     "text": [
      "(376, 36038)\n"
     ]
    }
   ],
   "source": [
    "data = raw.get_data()\n",
    "print(data.shape)"
   ]
  },
  {
   "cell_type": "code",
   "execution_count": 21,
   "metadata": {},
   "outputs": [
    {
     "name": "stdout",
     "output_type": "stream",
     "text": [
      "(376, 36038)\n",
      "(36038,)\n"
     ]
    }
   ],
   "source": [
    "data, times = raw.get_data(return_times=True) # 시간 배열을 원할 경우 return_times!\n",
    "print(data.shape)\n",
    "print(times.shape)"
   ]
  },
  {
   "cell_type": "code",
   "execution_count": 23,
   "metadata": {},
   "outputs": [
    {
     "name": "stdout",
     "output_type": "stream",
     "text": [
      "(1, 36038)\n",
      "(61, 36038)\n",
      "(2, 1000)\n"
     ]
    }
   ],
   "source": [
    "first_channel_data = raw.get_data(picks=0)\n",
    "eeg_and_eog_data = raw.get_data(picks=['eeg', 'eog'])\n",
    "two_meg_chans_data = raw.get_data(picks=['MEG 0712', 'MEG 1022'],\n",
    "                                  start=1000, stop=2000)\n",
    "\n",
    "print(first_channel_data.shape)\n",
    "print(eeg_and_eog_data.shape)\n",
    "print(two_meg_chans_data.shape)"
   ]
  },
  {
   "cell_type": "markdown",
   "metadata": {},
   "source": [
    "## 저장 및 내보내기"
   ]
  },
  {
   "cell_type": "code",
   "execution_count": 24,
   "metadata": {},
   "outputs": [],
   "source": [
    "data = raw.get_data()\n",
    "np.save(file='my_data.npy', arr=data)"
   ]
  },
  {
   "cell_type": "code",
   "execution_count": 25,
   "metadata": {},
   "outputs": [
    {
     "name": "stdout",
     "output_type": "stream",
     "text": [
      "Converting \"time\" to \"<class 'numpy.int64'>\"...\n",
      "channel    EEG 002    EEG 003     EEG 004    EEG 005    EEG 006    EEG 007  \\\n",
      "time                                                                         \n",
      "10000    38.478851  44.163942  178.125610  68.323000  12.145385   0.562775   \n",
      "10001    36.128997  41.207612  177.663696  67.666048  15.347900   1.313141   \n",
      "10003    35.894012  41.328279  173.910645  64.022951  21.148681   8.066437   \n",
      "10005    37.245177  45.370607  174.314819  60.857637  24.351196  18.258911   \n",
      "10006    38.478851  46.516939  178.067871  61.454866  32.931518  30.577424   \n",
      "\n",
      "channel    EEG 008    EEG 009    EEG 010    EEG 011  ...    EEG 051  \\\n",
      "time                                                 ...              \n",
      "10000    74.821746 -10.079834  57.211029  28.399048  ...  63.266908   \n",
      "10001    75.587036 -12.476868  55.286499  26.907502  ...  62.052460   \n",
      "10003    76.293457 -11.554932  55.636414  27.026826  ...  61.127167   \n",
      "10005    76.999878  -6.883789  59.193878  28.936005  ...  61.011506   \n",
      "10006    77.882904  -2.581421  62.634705  31.680451  ...  61.878968   \n",
      "\n",
      "channel    EEG 052    EEG 053    EEG 054    EEG 055    EEG 056    EEG 057  \\\n",
      "time                                                                        \n",
      "10000    42.223145  45.411133  49.790526  65.994630  37.806275  58.540282   \n",
      "10001    41.486695  47.344848  50.197692  64.753908  36.852174  58.768065   \n",
      "10003    40.934357  48.155762  50.488524  64.399416  36.196229  58.995848   \n",
      "10005    40.688874  46.222046  50.488524  64.635744  36.196229  59.166685   \n",
      "10006    41.977662  45.535889  50.430358  65.876466  37.627381  59.394469   \n",
      "\n",
      "channel    EEG 058    EEG 059    EEG 060  \n",
      "time                                      \n",
      "10000    81.036376  52.437896  69.522829  \n",
      "10001    81.264647  52.009582  70.692262  \n",
      "10003    81.150512  51.764831  70.809205  \n",
      "10005    80.922240  51.826019  70.107545  \n",
      "10006    81.492919  52.866211  70.692262  \n",
      "\n",
      "[5 rows x 59 columns]\n"
     ]
    }
   ],
   "source": [
    "sampling_freq = raw.info['sfreq']\n",
    "start_end_secs = np.array([10, 13])\n",
    "start_sample, stop_sample = (start_end_secs * sampling_freq).astype(int)\n",
    "df = raw.to_data_frame(picks=['eeg'], start=start_sample, stop=stop_sample)\n",
    "# then save using df.to_csv(...), df.to_hdf(...), etc\n",
    "print(df.head())"
   ]
  },
  {
   "cell_type": "code",
   "execution_count": null,
   "metadata": {},
   "outputs": [],
   "source": []
  }
 ],
 "metadata": {
  "kernelspec": {
   "display_name": "Python 3",
   "language": "python",
   "name": "python3"
  },
  "language_info": {
   "codemirror_mode": {
    "name": "ipython",
    "version": 3
   },
   "file_extension": ".py",
   "mimetype": "text/x-python",
   "name": "python",
   "nbconvert_exporter": "python",
   "pygments_lexer": "ipython3",
   "version": "3.7.3"
  }
 },
 "nbformat": 4,
 "nbformat_minor": 2
}
